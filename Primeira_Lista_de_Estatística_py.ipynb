{
  "nbformat": 4,
  "nbformat_minor": 0,
  "metadata": {
    "colab": {
      "provenance": [],
      "authorship_tag": "ABX9TyOLfD9oSmL50d/1L1uiWMYX",
      "include_colab_link": true
    },
    "kernelspec": {
      "name": "python3",
      "display_name": "Python 3"
    },
    "language_info": {
      "name": "python"
    }
  },
  "cells": [
    {
      "cell_type": "markdown",
      "metadata": {
        "id": "view-in-github",
        "colab_type": "text"
      },
      "source": [
        "<a href=\"https://colab.research.google.com/github/ASMdeS/Estatistica-e-Probabilidade/blob/main/Primeira_Lista_de_Estat%C3%ADstica_py.ipynb\" target=\"_parent\"><img src=\"https://colab.research.google.com/assets/colab-badge.svg\" alt=\"Open In Colab\"/></a>"
      ]
    },
    {
      "cell_type": "markdown",
      "source": [
        "1) Dados quantitativos: características númericas usadas para medir quantidades (altura, peso, idade).\n",
        "\n",
        "Dados qualitativos: características não númericas usadas para categorizar informações (sabores, sentimentos, opiniões)"
      ],
      "metadata": {
        "id": "Pf6nG41atU2W"
      }
    },
    {
      "cell_type": "markdown",
      "source": [
        "2a) Censo: população pequena e gerenciável. Dados mais precisos"
      ],
      "metadata": {
        "id": "Nj9dfrNNuDZ3"
      }
    },
    {
      "cell_type": "markdown",
      "source": [
        "2b) Amostragem: população grande e diversa. Mais rápido e barato"
      ],
      "metadata": {
        "id": "JaATGj2cuGhR"
      }
    },
    {
      "cell_type": "markdown",
      "source": [
        "3) (85 + 92 + 84 + 89) * 0.15 + 91 * 0.4\n",
        "\n",
        "350 * 0.15 + 91 * 0.4\n",
        "\n",
        "52.5 + 36.4\n",
        "\n",
        "88.9"
      ],
      "metadata": {
        "id": "t35AoI3GuNif"
      }
    },
    {
      "cell_type": "markdown",
      "source": [
        "4) n = ((Z)² * p * (1 - p)) / E²\n",
        "\n",
        "n = ((1.96)² * 0.5 * (1 - 0.5)) / (0.025)²\n",
        "\n",
        "n = (3.8416 * 0.5 * 0.5) / 0,000625\n",
        "\n",
        "n = 0,9604 / 0,000625\n",
        "\n",
        "n = 1536\n",
        "\n",
        "Najustado = (N * n) / (N + n)\n",
        "\n",
        "Najustado = (2500 * 1600) / (2500 + 1600)\n",
        "\n",
        "Najustado = 4000000 / 4100\n",
        "\n",
        "Najustado = 976"
      ],
      "metadata": {
        "id": "wBC8TaTZE5sZ"
      }
    },
    {
      "cell_type": "code",
      "source": [
        "# 5)\n",
        "\n",
        "# Importar de estatística o que será usado\n",
        "from statistics import median, mode, mean\n",
        "\n",
        "# Definindo a lista no enunciado\n",
        "lista_dada = [29, 27, 25, 39, 29, 27, 41, 31, 25, 33, 27, 25, 25, 23, 27, 27, 32, 26, 24, 36, 32, 26, 28, 24, 28, 27,\n",
        "              24, 26, 30, 26, 35, 26, 28, 34, 29, 23, 28]\n",
        "\n",
        "# Inicializa um dicionário vazio para armazenar a frequência dos elementos\n",
        "dicionario_frequencia = {}\n",
        "\n",
        "# Passar por cada elemento da lista e colocar as frequências no dicionário\n",
        "for element in lista_dada:\n",
        "    dicionario_frequencia[element] = dicionario_frequencia.get(element, 0) + 1\n",
        "\n",
        "# Printar a frequência em ordem ascendente\n",
        "for key in sorted(dicionario_frequencia.keys()):\n",
        "    print(f\"{key}: {dicionario_frequencia[key]} times\")\n",
        "\n",
        "# Printar mediana, moda, e média\n",
        "print(f\"\\nMediana: {median(lista_dada)}\")\n",
        "print(f\"Moda: {mode(lista_dada)}\")\n",
        "print(f\"Média: {mean(lista_dada)}\")\n"
      ],
      "metadata": {
        "id": "MkUyN8qfOd9a",
        "colab": {
          "base_uri": "https://localhost:8080/"
        },
        "outputId": "eb6c403d-d787-42d8-f735-eb59749411ce"
      },
      "execution_count": null,
      "outputs": [
        {
          "output_type": "stream",
          "name": "stdout",
          "text": [
            "23: 2 times\n",
            "24: 3 times\n",
            "25: 4 times\n",
            "26: 5 times\n",
            "27: 6 times\n",
            "28: 4 times\n",
            "29: 3 times\n",
            "30: 1 times\n",
            "31: 1 times\n",
            "32: 2 times\n",
            "33: 1 times\n",
            "34: 1 times\n",
            "35: 1 times\n",
            "36: 1 times\n",
            "39: 1 times\n",
            "41: 1 times\n",
            "\n",
            "Mediana: 27\n",
            "Moda: 27\n",
            "Média: 28.43243243243243\n"
          ]
        }
      ]
    },
    {
      "cell_type": "markdown",
      "source": [
        "6)\n",
        "\n",
        "Q2 = lQ2 + ((((n/2) - Fc-1) * h) / f)\n",
        "\n",
        "31.36 = 30 + ((((300/2) - 142) * 9) / X)\n",
        "\n",
        "31.36 = 30 + (((150 - 142) * 9) / X)\n",
        "\n",
        "31.36 = 30 + ((8 * 9) / X)\n",
        "\n",
        "31.36 = 30 + (72 / X)\n",
        "\n",
        "31.36 - 30 = 72 / X\n",
        "\n",
        "1.36 = 72 / X\n",
        "\n",
        "X = 72 / 1.36\n",
        "\n",
        "X = 53\n",
        "\n",
        "X + Y = 76\n",
        "\n",
        "Y = 76 - X\n",
        "\n",
        "Y = 76 - 53\n",
        "\n",
        "Y = 23"
      ],
      "metadata": {
        "id": "dnZlUktA14Or"
      }
    },
    {
      "cell_type": "code",
      "source": [
        "# 7a)\n",
        "\n",
        "# Definindo a lista no enunciado\n",
        "lista_dada = [25, 32, 20, 28, 22, 36, 19, 31, 24, 27, 35, 29, 26, 21, 23, 37, 30, 18, 34, 39, 38, 33, 40, 25,\n",
        "19, 28, 22, 31, 36, 20, 27, 33, 35, 24, 26, 30, 38, 29, 32, 23, 37, 21, 34, 18, 39, 40, 19, 22,\n",
        "25, 28]\n",
        "\n",
        "# Inicializa um dicionário vazio para armazenar a frequência dos elementos\n",
        "dicionario_frequencia = {}\n",
        "\n",
        "# Passar por cada elemento da lista e colocar as frequências no dicionário\n",
        "for element in lista_dada:\n",
        "    dicionario_frequencia[element] = dicionario_frequencia.get(element, 0) + 1\n",
        "\n",
        "# Printar a frequência em ordem ascendente\n",
        "for key in sorted(dicionario_frequencia.keys()):\n",
        "    print(f\"{key}: {dicionario_frequencia[key]} vezes\")"
      ],
      "metadata": {
        "id": "axO39KFWPe15",
        "colab": {
          "base_uri": "https://localhost:8080/"
        },
        "outputId": "cf8f14a2-4d09-49fc-ad9e-9e6032580383"
      },
      "execution_count": null,
      "outputs": [
        {
          "output_type": "stream",
          "name": "stdout",
          "text": [
            "18: 2 vezes\n",
            "19: 3 vezes\n",
            "20: 2 vezes\n",
            "21: 2 vezes\n",
            "22: 3 vezes\n",
            "23: 2 vezes\n",
            "24: 2 vezes\n",
            "25: 3 vezes\n",
            "26: 2 vezes\n",
            "27: 2 vezes\n",
            "28: 3 vezes\n",
            "29: 2 vezes\n",
            "30: 2 vezes\n",
            "31: 2 vezes\n",
            "32: 2 vezes\n",
            "33: 2 vezes\n",
            "34: 2 vezes\n",
            "35: 2 vezes\n",
            "36: 2 vezes\n",
            "37: 2 vezes\n",
            "38: 2 vezes\n",
            "39: 2 vezes\n",
            "40: 2 vezes\n"
          ]
        }
      ]
    },
    {
      "cell_type": "code",
      "source": [
        "# 7b)\n",
        "\n",
        "# Importar de estatística o que será usado\n",
        "from statistics import median, mode, mean\n",
        "\n",
        "# Definindo a lista no enunciado\n",
        "lista_dada = [25, 32, 20, 28, 22, 36, 19, 31, 24, 27, 35, 29, 26, 21, 23, 37, 30, 18, 34, 39, 38, 33, 40, 25,\n",
        "              19, 28, 22, 31, 36, 20, 27, 33, 35, 24, 26, 30, 38, 29, 32, 23, 37, 21, 34, 18, 39, 40, 19, 22,\n",
        "              25, 28]\n",
        "\n",
        "# Printar mediana, moda, e média\n",
        "print(f\"Mediana: {median(lista_dada)}\")\n",
        "print(f\"Moda: {mode(lista_dada)}\")\n",
        "print(f\"Média: {mean(lista_dada)}\")\n"
      ],
      "metadata": {
        "id": "rZRWYwxMOuyh",
        "colab": {
          "base_uri": "https://localhost:8080/"
        },
        "outputId": "767f67fa-f9bf-4cbe-ea8a-b0f50443f2d0"
      },
      "execution_count": null,
      "outputs": [
        {
          "output_type": "stream",
          "name": "stdout",
          "text": [
            "Mediana: 28.0\n",
            "Moda: 25\n",
            "Média: 28.56\n"
          ]
        }
      ]
    },
    {
      "cell_type": "markdown",
      "source": [
        "7c) Q1 = lQ1 + ((((n/4) - Fc-1) * h) / f)\n",
        "\n",
        "Q1 = 21 + ((((50/4) - 7) * 3) / 7)\n",
        "\n",
        "Q1 = 21 + (((12.5 - 7) * 3) / 7)\n",
        "\n",
        "Q1 = 21 + ((5.5 * 3) / 7)\n",
        "\n",
        "Q1 = 21 + (16.5 / 7)\n",
        "\n",
        "Q1 = 21 + 2.36\n",
        "\n",
        "Q1 = 23.36\n",
        "\n",
        "Q3 = lQ3 + ((((3n/4) - Fc-1) * h) / f)\n",
        "\n",
        "Q3 = 33 + ((((150/4) - 34) * 3) / 6)\n",
        "\n",
        "Q3 = 33 + (((37.5 - 34) * 3) / 6)\n",
        "\n",
        "Q3 = 33 + ((3.5 * 3) / 6)\n",
        "\n",
        "Q3 = 33 + (10.5 / 6)\n",
        "\n",
        "Q3 = 33 + 1.75\n",
        "\n",
        "Q3 = 34.75"
      ],
      "metadata": {
        "id": "8XF5SePhcDyM"
      }
    },
    {
      "cell_type": "markdown",
      "source": [
        "7d) P40 = lP40 + ((((in/100) - Fc-1) * h) / f)\n",
        "\n",
        "P40 = 24 + ((((40*50/100) - 14) * 3) / 7)\n",
        "\n",
        "P40 = 24 + (((20 - 14) * 3) / 7)\n",
        "\n",
        "P40 = 24 + ((6 * 3) / 7)\n",
        "\n",
        "P40 = 24 + (18 / 7)\n",
        "\n",
        "P40 = 24 + 2.57\n",
        "\n",
        "P40 = 26.57"
      ],
      "metadata": {
        "id": "z1n9ZejVcEHO"
      }
    },
    {
      "cell_type": "code",
      "source": [
        "# 8\n",
        "\n",
        "# Importar de estatística o que será usado\n",
        "import statistics\n",
        "\n",
        "# Definindo o dicionário com frequências no enunciado\n",
        "dicionario_frequencia = {(4 + 2) / 2: 12, (7 + 5) / 2: 18, (10 + 8) / 2: 10, (13 + 11) / 2: 7, (16 + 14) / 2: 3}\n",
        "\n",
        "# Converter o dicionário em uma lista\n",
        "lista_dados = [valor for valor, frequencia in dicionario_frequencia.items() for _ in range(frequencia)]\n",
        "\n",
        "# Printar Variância e Desvio Padrão\n",
        "print(f\"Variância: {statistics.pvariance(lista_dados)}\")\n",
        "print(f\"Desvio padrão: {statistics.pstdev(lista_dados)}\")"
      ],
      "metadata": {
        "id": "sGwikMSX88n3",
        "colab": {
          "base_uri": "https://localhost:8080/"
        },
        "outputId": "5f351066-0228-4cc0-9a26-e889ba1efd5f"
      },
      "execution_count": null,
      "outputs": [
        {
          "output_type": "stream",
          "name": "stdout",
          "text": [
            "Variância: 12.2724\n",
            "Desvio padrão: 3.5031985384788\n"
          ]
        }
      ]
    },
    {
      "cell_type": "markdown",
      "source": [
        "9) (2 * 55 + 15 * 60 + 28 * 65 + 42 * 70 + 30 * 75 + 20 * 80 + 6 * 85) / (2 + 15 + 28 + 42 + 30 + 20 + 6)\n",
        "\n",
        "(110 + 900 + 1820 + 2940 + 2250 + 1600 + 510) / 143\n",
        "\n",
        "10130 / 143\n",
        "\n",
        "70.8\n",
        "\n",
        "   "
      ],
      "metadata": {
        "id": "2_vhd54DPzD9"
      }
    },
    {
      "cell_type": "code",
      "source": [
        "# 10a)\n",
        "\n",
        "# Importar de estatística o que será usado\n",
        "from statistics import median, mean\n",
        "\n",
        "# Definindo a lista no enunciado\n",
        "lista_dada = [280.9, 55.9, 198.4, 65.7, 49.2, 43.4, 25.9, 31.2, 42.4, 27.8, 103.9, 42.9, 27.5, 29.9, 14.2, 16.0, 24.4,\n",
        "              10.9, 13.8]\n",
        "\n",
        "# Printar mediana e média\n",
        "print(f\"Mediana: {median(lista_dada)}\")\n",
        "print(f\"Média: {mean(lista_dada)}\")\n"
      ],
      "metadata": {
        "id": "CNfO1P6GRuuo",
        "colab": {
          "base_uri": "https://localhost:8080/"
        },
        "outputId": "472ec242-d136-475f-a97b-7b32a393b84a"
      },
      "execution_count": null,
      "outputs": [
        {
          "output_type": "stream",
          "name": "stdout",
          "text": [
            "Mediana: 31.2\n",
            "Média: 58.12105263157895\n"
          ]
        }
      ]
    },
    {
      "cell_type": "code",
      "source": [
        "# 10b)\n",
        "\n",
        "# Importar de estatística o que será usado\n",
        "from statistics import median, mean\n",
        "\n",
        "# Definindo a lista no enunciado\n",
        "lista_dada = [55.9, 198.4, 65.7, 49.2, 43.4, 25.9, 31.2, 42.4, 27.8, 103.9, 42.9, 27.5, 29.9, 14.2, 16.0, 24.4,\n",
        "              10.9, 13.8]\n",
        "\n",
        "# Printar mediana e média\n",
        "print(f\"Mediana: {median(lista_dada)}\")\n",
        "print(f\"Média: {mean(lista_dada)}\")\n",
        "print(\n",
        "    f\"\\nMédia: o Canadá é um ponto fora da curva. Ele está longe da parte central da tabela (mediana) e contribui significativamente para o total de exportações\")\n"
      ],
      "metadata": {
        "id": "hCbdKR0zTQCc",
        "colab": {
          "base_uri": "https://localhost:8080/"
        },
        "outputId": "f35394fe-b330-46b9-ecb6-275f08f4a393"
      },
      "execution_count": null,
      "outputs": [
        {
          "output_type": "stream",
          "name": "stdout",
          "text": [
            "Mediana: 30.549999999999997\n",
            "Média: 45.74444444444445\n",
            "\n",
            "Média: o Canadá é um ponto fora da curva. Ele está longe da parte central da tabela (mediana) e contribui significativamente para o total de exportações\n"
          ]
        }
      ]
    },
    {
      "cell_type": "code",
      "source": [
        "# 10c)\n",
        "\n",
        "# Importar de estatística o que será usado\n",
        "from statistics import median, mean\n",
        "\n",
        "# Definindo a lista no enunciado\n",
        "lista_dada = [280.9, 55.9, 198.4, 65.7, 49.2, 43.4, 25.9, 31.2, 42.4, 27.8, 103.9, 42.9, 27.5, 29.9, 14.2, 16.0, 24.4,\n",
        "              10.9, 13.8, 21.5]\n",
        "\n",
        "# Printar mediana e média\n",
        "print(f\"Mediana: {median(lista_dada)}\")\n",
        "print(f\"Média: {mean(lista_dada)}\")\n",
        "print(\n",
        "    f\"\\nA média diminui já que a Índia tem valores baixos e a distribuição na parte central é relativamente homogênea\")\n"
      ],
      "metadata": {
        "id": "-Ues7B1SUSRK",
        "colab": {
          "base_uri": "https://localhost:8080/"
        },
        "outputId": "58be1dd9-950e-4976-e280-0c762e8c9819"
      },
      "execution_count": null,
      "outputs": [
        {
          "output_type": "stream",
          "name": "stdout",
          "text": [
            "Mediana: 30.549999999999997\n",
            "Média: 56.29\n",
            "\n",
            "A média diminui já que a Índia tem valores baixos e a distribuição na parte central é relativamente homogênea\n"
          ]
        }
      ]
    },
    {
      "cell_type": "markdown",
      "source": [
        "EXTRA a) Amplitude = Máximo - Mínimo\n",
        "Amplitude = 90 -7 = 83\n",
        "Ponto Médio do terceiro intervalo = (Máximo - Mínimo) / 2\n",
        "Ponto Médio do terceiro intervalo = (42 + 31) / 2\n",
        "Ponto Médio do terceiro intervalo = (73) / 2\n",
        "Ponto Médio do terceiro intervalo = 36.5"
      ],
      "metadata": {
        "id": "G_MfJw4O937c"
      }
    },
    {
      "cell_type": "markdown",
      "source": [
        "EXTRA b) ((8 + 5 + 6 + 2) / (6 + 10 + 13 + 8 + 5 + 6 + 2)) * 100\n",
        "\n",
        "(21 / 50) * 100\n",
        "\n",
        "0.42 * 100\n",
        "\n",
        "42"
      ],
      "metadata": {
        "id": "dE4XdgwuUbQc"
      }
    },
    {
      "cell_type": "code",
      "source": [
        "# Extra c)\n",
        "\n",
        "# Importar de estatística o que será usado\n",
        "from statistics import median, mode, mean\n",
        "\n",
        "# Definindo o dicionário com frequências no enunciado\n",
        "dicionario_frequencia = {(18 + 7) / 2: 6, (31 + 18) / 2: 10, (42 + 31) / 2: 13, (54 + 42) / 2: 8, (66 + 54) / 2: 5,\n",
        "                         (78 + 66) / 2: 6, (90 + 78) / 2: 2}\n",
        "\n",
        "# Converter o dicionário em uma lista\n",
        "lista_dados = [valor for valor, frequencia in dicionario_frequencia.items() for _ in range(frequencia)]\n",
        "\n",
        "# Printar mediana, moda, e média\n",
        "print(f\"Moda: {mode(lista_dados)}\")\n",
        "print(f\"Mediana: {median(lista_dados)}\")\n",
        "print(f\"Média: {mean(lista_dados)}\")\n",
        "print(\n",
        "    f\"\\nModa: destaca o valor mais comum\")\n",
        "print(f\"Mediana: representa o valor do meio quando os dados estão ordenados\")\n",
        "print(f\"Média: fornece uma medida do centro aritmético dos dados\")\n"
      ],
      "metadata": {
        "colab": {
          "base_uri": "https://localhost:8080/"
        },
        "id": "Ly8ty3wnC3Yp",
        "outputId": "3ccee034-958c-48e3-9881-877c1d6c765c"
      },
      "execution_count": null,
      "outputs": [
        {
          "output_type": "stream",
          "name": "stdout",
          "text": [
            "Moda: 36.5\n",
            "Mediana: 36.5\n",
            "Média: 41.57\n",
            "Moda: destaca o valor mais comum\n",
            "Mediana: representa o valor do meio quando os dados estão ordenados\n",
            "Média: fornece uma medida do centro aritmético dos dados\n"
          ]
        }
      ]
    }
  ]
}