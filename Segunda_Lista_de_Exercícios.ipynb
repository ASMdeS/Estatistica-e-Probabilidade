{
  "nbformat": 4,
  "nbformat_minor": 0,
  "metadata": {
    "colab": {
      "provenance": [],
      "toc_visible": true,
      "authorship_tag": "ABX9TyPoEZ9HTWSh7B2Gqop4CK2e",
      "include_colab_link": true
    },
    "kernelspec": {
      "name": "python3",
      "display_name": "Python 3"
    },
    "language_info": {
      "name": "python"
    }
  },
  "cells": [
    {
      "cell_type": "markdown",
      "metadata": {
        "id": "view-in-github",
        "colab_type": "text"
      },
      "source": [
        "<a href=\"https://colab.research.google.com/github/ASMdeS/Estatistica-e-Probabilidade/blob/main/Segunda_Lista_de_Exerc%C3%ADcios.ipynb\" target=\"_parent\"><img src=\"https://colab.research.google.com/assets/colab-badge.svg\" alt=\"Open In Colab\"/></a>"
      ]
    },
    {
      "cell_type": "markdown",
      "source": [
        "1) A primeira bola ser vermelhas:\n",
        "\n",
        "Bolas vermelhas / Bolas Totais\n",
        "\n",
        "5/10 (35%)\n",
        "\n",
        "Segunda bola não ser vermelha:\n",
        "\n",
        "Bolas não vermelhas / Todas as bolas:\n",
        "\n",
        "5/9 (55.55%)\n",
        "\n",
        "Chance dos dois eventos ocorrerem:\n",
        "\n",
        "(5/10) * (5/9) = 5/18 (27.77%)"
      ],
      "metadata": {
        "id": "mrvui2DJbUrH"
      }
    },
    {
      "cell_type": "markdown",
      "source": [
        "2) 20% Economistas -> 30% UFPE\n",
        "\n",
        "30% Contadores -> 40% UFPE\n",
        "\n",
        "50% Administradores -> 72% UFPE\n",
        "\n",
        "14% Economistas não UFPE (0.20 * 0.70)\n",
        "\n",
        "18% Contadores não UFPE (0.30 * 0.60)\n",
        "\n",
        "14% Administradores não UFPE (0.50 * 0.28)\n",
        "\n",
        "14/14+18+14 = 14/46 = 7/23\n",
        "\n",
        "a) 7/23"
      ],
      "metadata": {
        "id": "ramXEgdTtmla"
      }
    },
    {
      "cell_type": "code",
      "source": [
        "# 3a)\n",
        "\n",
        "# Importar random para usar o random choice\n",
        "import random\n",
        "\n",
        "# Criando as variáveis s1 e s2\n",
        "s1 = None\n",
        "s2 = None\n",
        "\n",
        "# Executando duas vezes o códgio do experimento\n",
        "for i in range(0, 2):\n",
        "    B = random.choice([True, False])\n",
        "    if B:\n",
        "        s1\n",
        "    else:\n",
        "        s2\n",
        "\n",
        "# Resposta 3a)\n",
        "print(f'Espaço amostral: s1s1, s1s2, s2s1, s2s2')"
      ],
      "metadata": {
        "id": "1UOr1RsdT50U"
      },
      "execution_count": null,
      "outputs": []
    },
    {
      "cell_type": "code",
      "source": [
        "# 3b)\n",
        "\n",
        "# Importar random para usar o random choice\n",
        "import random\n",
        "\n",
        "# Criando as variáveis s1 e s2\n",
        "s1 = None\n",
        "s2 = None\n",
        "\n",
        "# Executando duas vezes o códgio do experimento\n",
        "for i in range(0, 2):\n",
        "    B = random.choice([True, False])\n",
        "    if B:\n",
        "        s1\n",
        "    else:\n",
        "        s2\n",
        "\n",
        "# Resposta 3b)\n",
        "print(f'Há apenas duas possibilidades: s1 ou s2. Então a possibilidade tanto de P(A) quanto P(B) é de 1/2 ou 50%')"
      ],
      "metadata": {
        "id": "JZ43-yDDT-Tl"
      },
      "execution_count": null,
      "outputs": []
    },
    {
      "cell_type": "markdown",
      "source": [
        "4a)\n",
        "\n",
        "$$\n",
        "\\int_{0}^{3}k\\left(3y-y^2\\right)dy\\ =\\ 1\n",
        "$$\n",
        "\n",
        "$$\n",
        "\\int_{0}^{3}{3ky\\ dy}\\ -\\ ky² dy = 1\n",
        "$$\n",
        "\n",
        "$$\n",
        "\\frac{27k}{2}\\ -\\ 9k=\\ 1\n",
        "$$\n",
        "\n",
        "$$\n",
        "k=\\ \\frac{2}{9}\n",
        "$$\n"
      ],
      "metadata": {
        "id": "uRHxNjRAkMdB"
      }
    },
    {
      "cell_type": "markdown",
      "source": [
        "4b)\n",
        "\n",
        "$$\n",
        "\\int _0^2\\frac{2}{9}\\left(3y-y²\\:\\right)dx\n",
        "\\int_{0}^{2} (3x - x^2) dx = - \\int_{0}^{2} (x^2) dx - \\int_{0}^{2} (3x) dx \\\\\n",
        "\\int_{0}^{2} 3xdx = 6 \\\\\n",
        "\\int_{0}^{2} x^2dx = \\frac{8}{3} \\\\\n",
        "= \\frac{2}{9}(6 - \\frac{8}{3}) \\\\\n",
        "\\text{Simplificando } \\frac{2}{9}(6 - \\frac{8}{3}): 20/27 \\\\\n",
        "= 20/27\n",
        "$$\n",
        "\n",
        "74%"
      ],
      "metadata": {
        "id": "-3PoFZLyyKqO"
      }
    },
    {
      "cell_type": "markdown",
      "source": [
        "5a) Faces com valor 16 ou mais / Faces Totais\n",
        "\n",
        "5/20 (25%)"
      ],
      "metadata": {
        "id": "zfYd81kRvCSc"
      }
    },
    {
      "cell_type": "markdown",
      "source": [
        "5b) Faces com valor menor que 5 / Faces Totais\n",
        "\n",
        "4/20 (20%)"
      ],
      "metadata": {
        "id": "WUDyo24uvSbQ"
      }
    },
    {
      "cell_type": "markdown",
      "source": [
        "6) Há apenas uma maneira de perder: Tirando um número positivo e um número negativo\n",
        "\n",
        "Chances de tirar negativo: 2/6 (33.33%)\n",
        "\n",
        "Chances de tirar positivo: 3/6 (50%)\n",
        "\n",
        "Chance dos dois eventos ocorrer: 2/6 * 3/6 = 1/6 (16.66%)\n",
        "\n",
        "Você pode apenas ganhar ou perder. Se 16.66% é a chance de perder, então a chance de ganhar é de 100% - 16.66% ou 6/6 - 1/6:\n",
        "\n",
        "5/6 (83.33%)"
      ],
      "metadata": {
        "id": "Bq1Ik5YGvdou"
      }
    },
    {
      "cell_type": "markdown",
      "source": [
        "7) A: 10 alunos\n",
        "\n",
        "B: 12 alunos\n",
        "\n",
        "C: 28 alunos\n",
        "\n",
        "Chance da sala C ser sorteada:\n",
        "\n",
        "Sala C / Salas Totais\n",
        "\n",
        "1/3 (33.33%)\n",
        "\n",
        "Chance da aluna ser sorteada:\n",
        "\n",
        "Aluna / Alunos Totais\n",
        "\n",
        "1/28 (3.57%)\n",
        "\n",
        "Chance dos dois eventos ocorrer:\n",
        "\n",
        "1/3 * 1/28 = 1/84 (1.19%)\n",
        "\n",
        "d) 1/84"
      ],
      "metadata": {
        "id": "123PHNz-w_eg"
      }
    },
    {
      "cell_type": "markdown",
      "source": [
        "8) Probabilidade dos dois alunos não falarem inglês:\n",
        "\n",
        "6/10 * 6/10 = 36/100 (36%)\n",
        "\n",
        "Então a probabilidade de pelo menos um aluno conversar com o professor é 100% - 36% ou 100/100 - 36/100\n",
        "\n",
        "64/100 (64%)\n",
        "\n",
        "# e) 0.64"
      ],
      "metadata": {
        "id": "mdkKEw9u2nmr"
      }
    },
    {
      "cell_type": "code",
      "source": [
        "# 9)\n",
        "\n",
        "# Importar de estatística o que será usado\n",
        "from statistics import stdev, variance, mean\n",
        "\n",
        "# Definindo o dicionário com frequências no enunciado\n",
        "dicionario_frequencia = {1: 3, 2: 4, 3: 2, 4: 1}\n",
        "\n",
        "# Converter o dicionário em uma lista\n",
        "lista_dados = [valor for valor, frequencia in dicionario_frequencia.items() for _ in range(frequencia)]\n",
        "\n",
        "# Printar mediana, moda, e média\n",
        "print(f\"Número esperado de dias: {mean(lista_dados)}\")\n",
        "print(f\"Variância: {variance(lista_dados)}\")\n",
        "print(f\"Desvio-padrão: {stdev(lista_dados)}\")"
      ],
      "metadata": {
        "id": "qI6fKdcykFpu"
      },
      "execution_count": null,
      "outputs": []
    },
    {
      "cell_type": "markdown",
      "source": [
        "10) Chance de Katharian não resolver: 15/100\n",
        "\n",
        "Chance de Luis não resolver: 70/100\n",
        "\n",
        "Chance dos dois não resolverem:\n",
        "\n",
        "15/100 * 70/100 = 105/1000 (10.5%)\n",
        "\n",
        "Se a chance dos dois não resolverem é de 105/1000 (10.5%), então a chance de apenas um resolver é de 1000/1000 - 105/1000 ou 100% - 10.5%\n",
        "\n",
        "895/1000 (89.5%)"
      ],
      "metadata": {
        "id": "U5Uqi9NM8mFz"
      }
    },
    {
      "cell_type": "markdown",
      "source": [
        "Extra a) Chance de um aluno ter um aniversário em um dia qualquer:\n",
        "\n",
        "Aniversários em um ano / Dias em um ano\n",
        "\n",
        "24/365\n",
        "\n",
        "Chance de dois alunos terem aniversário em um dado dia:\n",
        "\n",
        "24²/365² (0.43%)\n",
        "\n"
      ],
      "metadata": {
        "id": "MYATHTe79pcs"
      }
    },
    {
      "cell_type": "markdown",
      "source": [
        "Extra b) Chance de um aluno ter um aniversário em um dia qualquer:\n",
        "\n",
        "Aniversários em um ano / Dias em um ano\n",
        "\n",
        "50/365\n",
        "\n",
        "Chance de dois alunos terem aniversário em um dado dia:\n",
        "\n",
        "50²/365² (1.87%)\n",
        "\n"
      ],
      "metadata": {
        "id": "L9ypMo-Y-LRq"
      }
    },
    {
      "cell_type": "markdown",
      "source": [
        "Extra c) Como há mais pessoas na turma, há mais aniversários, portanto maiores chances de dois aniversários em um mesmo dia"
      ],
      "metadata": {
        "id": "75AQW4Hq-SDv"
      }
    }
  ]
}