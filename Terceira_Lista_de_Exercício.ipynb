{
  "nbformat": 4,
  "nbformat_minor": 0,
  "metadata": {
    "colab": {
      "provenance": []
    },
    "kernelspec": {
      "name": "python3",
      "display_name": "Python 3"
    },
    "language_info": {
      "name": "python"
    }
  },
  "cells": [
    {
      "cell_type": "markdown",
      "source": [
        "1a) Uma variável aleatória é uma função que associa um valor numérico a cada resultado de um experimento aleatório.\n",
        "\n",
        "Discreta: O número de carros vendidos por uma concessionária em um dia é uma variável aleatória discreta, pois pode ser contado e tem valores inteiros (0, 1, 2, ...).\n",
        "\n",
        "Contínua: A altura de estudantes em uma escola é uma variável aleatória contínua, pois pode assumir qualquer valor dentro de um intervalo e não é limitada a valores contáveis.\n"
      ],
      "metadata": {
        "id": "9DuATZFlupeR"
      }
    },
    {
      "cell_type": "markdown",
      "source": [
        "1b) Uma distribuição discreta de probabilidade descreve a probabilidade de ocorrência de cada valor possível de uma variável aleatória discreta. As duas condições que ela deve satisfazer são:\n",
        "\n",
        "Cada probabilidade deve estar entre 0 e 1, inclusive.\n",
        "\n",
        "A soma de todas as probabilidades deve ser igual a 1²²."
      ],
      "metadata": {
        "id": "m_UHBbHwuqjB"
      }
    },
    {
      "cell_type": "markdown",
      "source": [
        "1c) O valor esperado de uma distribuição de probabilidade, também conhecido como média ou expectância, não precisa ser um dos valores possíveis que a variável aleatória pode assumir. Ele é calculado como a soma do produto de cada valor possível pela sua probabilidade correspondente. Portanto, o valor esperado é uma média ponderada de todos os resultados possíveis e pode não ser um resultado que a variável aleatória pode de fato assumir em um único experimento. É uma medida de tendência central que dá uma ideia do resultado médio se o experimento for repetido muitas vezes.\n"
      ],
      "metadata": {
        "id": "Licqll9Xuq8g"
      }
    },
    {
      "cell_type": "code",
      "source": [
        "import math\n",
        "\n",
        "b = 0\n",
        "c = 0\n",
        "f = 0\n",
        "\n",
        "\n",
        "def possion(u, x):\n",
        "    return ((u ** x) * (math.e ** -u)) / math.factorial(x)\n",
        "\n",
        "\n",
        "a = possion(5, 5)\n",
        "print(f'2a) {a}')\n",
        "for i in range(1, 4):\n",
        "    b += possion(5, i)\n",
        "print(f'2b) {b}')\n",
        "\n",
        "for i in range(0, 5):\n",
        "    c += possion(5, i)\n",
        "print(f'2c) {c}')\n",
        "\n",
        "d = 1 - c - a\n",
        "\n",
        "print(f'2d) {d}')\n",
        "\n",
        "print(f'2e) {possion(5, 0)}')\n",
        "\n",
        "for i in range(3, 7):\n",
        "    f += possion(5, i)\n",
        "print(f'2f) {f}')\n"
      ],
      "metadata": {
        "colab": {
          "base_uri": "https://localhost:8080/"
        },
        "id": "iCyD77gLMcEE",
        "outputId": "0f424339-81ac-4737-d9d9-ed72b64eb8ae"
      },
      "execution_count": null,
      "outputs": [
        {
          "output_type": "stream",
          "name": "stdout",
          "text": [
            "2a) 0.17546736976785074\n",
            "2b) 0.25828796829827627\n",
            "2c) 0.44049328506521246\n",
            "2d) 0.38403934516693683\n",
            "2e) 0.006737946999085469\n",
            "2f) 0.6375314434898577\n"
          ]
        }
      ]
    },
    {
      "cell_type": "code",
      "source": [
        "import math\n",
        "\n",
        "\n",
        "def binomial_distribution(chance, tentativas, sucessos):\n",
        "    return (math.factorial(tentativas) / ((math.factorial(sucessos)) * (math.factorial(tentativas - sucessos)))) * (\n",
        "            chance ** sucessos) * ((1 - chance) ** (tentativas - sucessos))\n",
        "\n",
        "\n",
        "print(f'3) {binomial_distribution(0.9, 3, 2)}')\n"
      ],
      "metadata": {
        "id": "U1sZWsSSzt3H",
        "colab": {
          "base_uri": "https://localhost:8080/"
        },
        "outputId": "b16b92da-4e82-4df4-da82-2802c1ea84d4"
      },
      "execution_count": null,
      "outputs": [
        {
          "output_type": "stream",
          "name": "stdout",
          "text": [
            "3) 0.24299999999999997\n"
          ]
        }
      ]
    },
    {
      "cell_type": "code",
      "source": [
        "def geometrical_distribution(chance, tentativa):\n",
        "    return chance * (1 - chance) ** (tentativa - 1)\n",
        "\n",
        "\n",
        "print(f'4) {geometrical_distribution(0.75, 3) + geometrical_distribution(0.75, 4)}')\n"
      ],
      "metadata": {
        "id": "HwlUXHvW6Vdh",
        "colab": {
          "base_uri": "https://localhost:8080/"
        },
        "outputId": "7aa19271-ba76-4e72-d8c4-04553730dc15"
      },
      "execution_count": null,
      "outputs": [
        {
          "output_type": "stream",
          "name": "stdout",
          "text": [
            "4) 0.05859375\n"
          ]
        }
      ]
    },
    {
      "cell_type": "code",
      "source": [
        "import math\n",
        "\n",
        "def possion(u, x):\n",
        "    return ((u ** x) * (math.e ** -u)) / math.factorial(x)\n",
        "\n",
        "print(f'5) {1 - possion((0.02*24), 1) - possion((0.02*24), 0)}')"
      ],
      "metadata": {
        "colab": {
          "base_uri": "https://localhost:8080/"
        },
        "id": "w2i395OcpSLu",
        "outputId": "3a51f60b-1d31-4166-ab8f-6ec616c954be"
      },
      "execution_count": null,
      "outputs": [
        {
          "output_type": "stream",
          "name": "stdout",
          "text": [
            "5) 0.07128384673606743\n"
          ]
        }
      ]
    },
    {
      "cell_type": "code",
      "source": [
        "import math\n",
        "\n",
        "\n",
        "def probabilidade_falha(taxa, horas):\n",
        "    return math.exp(-taxa * horas)\n",
        "\n",
        "\n",
        "print(f\"6a) {probabilidade_falha((1 / 5), 2)}\")\n",
        "print(f\"6b) {probabilidade_falha((1 / 5), 4) - probabilidade_falha((1 / 5), 6)}\")\n"
      ],
      "metadata": {
        "colab": {
          "base_uri": "https://localhost:8080/"
        },
        "id": "5vns_xTYrvoP",
        "outputId": "f20ede5e-8e1a-44e3-e9de-f08f881d33a9"
      },
      "execution_count": null,
      "outputs": [
        {
          "output_type": "stream",
          "name": "stdout",
          "text": [
            "6a) 0.6703200460356393\n",
            "6b) 0.14813475220501954\n"
          ]
        }
      ]
    },
    {
      "cell_type": "code",
      "source": [
        "import math\n",
        "\n",
        "\n",
        "def binomial_distribution(chance, tentativas, sucessos):\n",
        "    return (math.factorial(tentativas) / ((math.factorial(sucessos)) * (math.factorial(tentativas - sucessos)))) * (\n",
        "            chance ** sucessos) * ((1 - chance) ** (tentativas - sucessos))\n",
        "\n",
        "\n",
        "print(f'7) {binomial_distribution(0.05, 10, 3)}')\n"
      ],
      "metadata": {
        "id": "98_ghsd9z6BF",
        "colab": {
          "base_uri": "https://localhost:8080/"
        },
        "outputId": "10d32fb6-d105-4048-fa16-2784e9c1f347"
      },
      "execution_count": null,
      "outputs": [
        {
          "output_type": "stream",
          "name": "stdout",
          "text": [
            "7) 0.010475059441406248\n"
          ]
        }
      ]
    },
    {
      "cell_type": "code",
      "source": [
        "def geometrical_distribution(chance, tentativa):\n",
        "    return chance * (1 - chance) ** (tentativa - 1)\n",
        "\n",
        "\n",
        "b = 0\n",
        "c = 0\n",
        "\n",
        "print(f'8a) {geometrical_distribution(0.01, 10)}')\n",
        "\n",
        "for i in range(1, 4):\n",
        "    b += geometrical_distribution(0.01, i)\n",
        "\n",
        "print(f'8b) {b}')\n",
        "\n",
        "for i in range(1, 11):\n",
        "    c += geometrical_distribution(0.01, i)\n",
        "\n",
        "print(f'8c) {1 - c}')\n"
      ],
      "metadata": {
        "id": "AS5_BhB3saP-",
        "colab": {
          "base_uri": "https://localhost:8080/"
        },
        "outputId": "ae574132-2db2-4f2a-81ea-9767846c50d7"
      },
      "execution_count": null,
      "outputs": [
        {
          "output_type": "stream",
          "name": "stdout",
          "text": [
            "8a) 0.009135172474836408\n",
            "8b) 0.029701\n",
            "8c) 0.9043820750088045\n"
          ]
        }
      ]
    },
    {
      "cell_type": "code",
      "source": [
        "def geometrical_distribution(chance, tentativa):\n",
        "    return chance * (1 - chance) ** (tentativa - 1)\n",
        "\n",
        "\n",
        "b = 0\n",
        "c = 0\n",
        "\n",
        "print(f'9a) {geometrical_distribution(1/4, 4)}')\n",
        "\n",
        "for i in range(1, 4):\n",
        "    b += geometrical_distribution(1/4, i)\n",
        "\n",
        "print(f'9b) {b}')\n",
        "\n",
        "for i in range(1, 5):\n",
        "    c += geometrical_distribution(1/4, i)\n",
        "\n",
        "print(f'9c) {1 - c}')\n"
      ],
      "metadata": {
        "id": "mx8BBFQftGe4",
        "colab": {
          "base_uri": "https://localhost:8080/"
        },
        "outputId": "0a762b7f-ef9a-4f2f-aac9-08841abd3f16"
      },
      "execution_count": null,
      "outputs": [
        {
          "output_type": "stream",
          "name": "stdout",
          "text": [
            "9a) 0.10546875\n",
            "9b) 0.578125\n",
            "9c) 0.31640625\n"
          ]
        }
      ]
    },
    {
      "cell_type": "code",
      "source": [
        "import math\n",
        "\n",
        "b = 0\n",
        "c = 0\n",
        "\n",
        "\n",
        "def binomial_distribution(chance, tentativas, sucessos):\n",
        "    return (math.factorial(tentativas) / ((math.factorial(sucessos)) * (math.factorial(tentativas - sucessos)))) * (\n",
        "            chance ** sucessos) * ((1 - chance) ** (tentativas - sucessos))\n",
        "\n",
        "\n",
        "print(f'10a) {binomial_distribution(0.29, 7, 2)}')\n",
        "\n",
        "for i in range(4, 8):\n",
        "    b += binomial_distribution(0.29, 7, i)\n",
        "\n",
        "print(f'10b) {b}')\n",
        "\n",
        "for i in range(1, 5):\n",
        "    c += binomial_distribution(0.29, 7, i)\n",
        "\n",
        "print(f'10c) {c}')\n"
      ],
      "metadata": {
        "colab": {
          "base_uri": "https://localhost:8080/"
        },
        "id": "lTN5nPe-1ikR",
        "outputId": "b5b5bf62-fabc-4e6b-b017-cb54fc606ee9"
      },
      "execution_count": null,
      "outputs": [
        {
          "output_type": "stream",
          "name": "stdout",
          "text": [
            "10a) 0.31864494568010987\n",
            "10b) 0.11344235560819994\n",
            "10c) 0.8842067203047397\n"
          ]
        }
      ]
    },
    {
      "cell_type": "code",
      "source": [
        "from scipy.integrate import quad\n",
        "\n",
        "\n",
        "def integrando(x):\n",
        "    return x / 2\n",
        "\n",
        "\n",
        "print(f\"11) {quad(integrando, 1, 2)[0]}\")\n"
      ],
      "metadata": {
        "id": "NZzhnzmiy6UY"
      },
      "execution_count": null,
      "outputs": []
    },
    {
      "cell_type": "markdown",
      "source": [
        "\n",
        "\n",
        "---\n",
        "\n"
      ],
      "metadata": {
        "id": "KIbxsvoL0gd3"
      }
    },
    {
      "cell_type": "code",
      "source": [
        "def margem_erro(nivel, desvio, amostra):\n",
        "    return nivel * (desvio / (amostra ** 0.5))\n",
        "\n",
        "\n",
        "margem = margem_erro(1.645, 1.5, 30)\n",
        "\n",
        "print(f'12) 22.9 +- {margem}')\n"
      ],
      "metadata": {
        "colab": {
          "base_uri": "https://localhost:8080/"
        },
        "id": "vK56J92wjHQe",
        "outputId": "b2f21b30-806a-45d7-c476-37139614241b"
      },
      "execution_count": null,
      "outputs": [
        {
          "output_type": "stream",
          "name": "stdout",
          "text": [
            "12) 22.9 +- 0.4505018035479991\n"
          ]
        }
      ]
    },
    {
      "cell_type": "code",
      "execution_count": null,
      "metadata": {
        "id": "cVZnyF0xLnBm",
        "colab": {
          "base_uri": "https://localhost:8080/"
        },
        "outputId": "e24439c7-0e60-47b1-dd7f-ead4c0f9ec30"
      },
      "outputs": [
        {
          "output_type": "stream",
          "name": "stdout",
          "text": [
            "13a) 0.7249831358225932\n",
            "13b) 0.006982666701149653\n"
          ]
        }
      ],
      "source": [
        "from scipy.stats import norm\n",
        "\n",
        "\n",
        "def escore_padrao(valor, media, desvio):\n",
        "    return (valor - media) / desvio\n",
        "\n",
        "\n",
        "vinte_mil = escore_padrao(20000, 27989, 3250)\n",
        "trinta_mil = escore_padrao(30000, 27989, 3250)\n",
        "\n",
        "print(f'13a) {norm.cdf(trinta_mil) - norm.cdf(vinte_mil)}')\n",
        "print(f'13b) {norm.cdf(vinte_mil)}')\n"
      ]
    },
    {
      "cell_type": "code",
      "source": [
        "import math\n",
        "\n",
        "\n",
        "def probabilidade_falha(taxa, horas):\n",
        "    return math.exp(-taxa * horas)\n",
        "\n",
        "\n",
        "print(f\"14a) {probabilidade_falha(0.02, 50)}\")\n",
        "print(f\"14b) {1 - probabilidade_falha(0.02, 24)}\")"
      ],
      "metadata": {
        "id": "A8bzN-mgAB5F",
        "outputId": "f5a37e18-0698-45dd-b4f1-8ba94e58f44c",
        "colab": {
          "base_uri": "https://localhost:8080/"
        }
      },
      "execution_count": null,
      "outputs": [
        {
          "output_type": "stream",
          "name": "stdout",
          "text": [
            "14a) 0.36787944117144233\n",
            "14b) 0.38121660819385916\n"
          ]
        }
      ]
    },
    {
      "cell_type": "code",
      "source": [
        "from scipy.integrate import quad\n",
        "import math\n",
        "\n",
        "def integrando(t):\n",
        "    return 0.01 * math.e ** (-0.01 * t)\n",
        "\n",
        "\n",
        "print(f\"15) {1 - quad(integrando, 0, 50)[0]}\")\n"
      ],
      "metadata": {
        "id": "1VFelQ7P0CeQ",
        "colab": {
          "base_uri": "https://localhost:8080/"
        },
        "outputId": "95ccea4c-ce0e-4656-f9fb-299b56932cf7"
      },
      "execution_count": null,
      "outputs": [
        {
          "output_type": "stream",
          "name": "stdout",
          "text": [
            "15) 0.6065306597126334\n"
          ]
        }
      ]
    },
    {
      "cell_type": "markdown",
      "source": [
        "a)\n",
        "\n",
        "$$ P(X=x) = (1-p)^{x-1}p $$\n",
        "\n",
        "\n",
        "$$ P(X=x) = (0.8)^{x-1} \\times 0.2 $$\n",
        "\n",
        "\n",
        "b)\n",
        "$$ P(X \\geq 3) = 1 - P(X=1) - P(X=2) $$\n",
        "$$ P(X \\geq 3) = 1 - (0.2) - (0.8 \\times 0.2) $$\n",
        "$$ P(X \\geq 3) = 1 - 0.2 - 0.16 $$\n",
        "$$ P(X \\geq 3) = 0.64 $$\n",
        "\n",
        "c)\n",
        "$$ P(X \\text{ é par}) = \\sum_{k=1}^{\\infty} P(X=2k) $$\n",
        "$$ P(X \\text{ é par}) = \\sum_{k=1}^{\\infty} (0.8)^{2k-1} \\times 0.2 $$\n",
        "$$ P(X \\text{ é par}) = \\frac{a}{1-r} $$\n",
        "$$ P(X \\text{ é par}) = \\frac{0.16}{1-0.64} $$\n",
        "$$ P(X \\text{ é par}) = \\frac{0.16}{0.36} $$\n",
        "$$ P(X \\text{ é par}) = \\frac{4}{9} \\approx 0.4444 $$"
      ],
      "metadata": {
        "id": "HYDaChN95nJd"
      }
    }
  ]
}